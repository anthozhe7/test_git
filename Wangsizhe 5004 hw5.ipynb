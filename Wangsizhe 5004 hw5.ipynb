{
 "cells": [
  {
   "cell_type": "code",
   "execution_count": 1,
   "id": "9bd34b4c",
   "metadata": {},
   "outputs": [],
   "source": [
    "import numpy as np"
   ]
  },
  {
   "cell_type": "markdown",
   "id": "050122bd",
   "metadata": {},
   "source": [
    "### Problem 2"
   ]
  },
  {
   "cell_type": "markdown",
   "id": "74dd778b",
   "metadata": {},
   "source": [
    "### (a)"
   ]
  },
  {
   "cell_type": "code",
   "execution_count": 2,
   "id": "f4ee42a7",
   "metadata": {},
   "outputs": [],
   "source": [
    "def f(x):\n",
    "    return x**4-2*x+1"
   ]
  },
  {
   "cell_type": "code",
   "execution_count": 3,
   "id": "0aeaf55a",
   "metadata": {},
   "outputs": [],
   "source": [
    "def trapezoidal(N,a,b):\n",
    "    h = (b-a)/N\n",
    "    l = np.arange(h*1,b,h)\n",
    "    I = h*(f(a)/2+f(b)/2+np.sum(f(l)))\n",
    "    return I"
   ]
  },
  {
   "cell_type": "code",
   "execution_count": 4,
   "id": "3c80019a",
   "metadata": {},
   "outputs": [],
   "source": [
    "def simpson(N,a,b):\n",
    "    h = (b-a)/N\n",
    "    l1 = np.arange(h*1,b,2*h)\n",
    "    l2 = np.arange(h*2,b,2*h)\n",
    "    I = (h/3)*(f(a)+f(b)+4*np.sum(f(l1))+2*np.sum(f(l2)))\n",
    "    return I"
   ]
  },
  {
   "cell_type": "markdown",
   "id": "750b7126",
   "metadata": {},
   "source": [
    "### (b)"
   ]
  },
  {
   "cell_type": "code",
   "execution_count": 5,
   "id": "a6e64e69",
   "metadata": {},
   "outputs": [],
   "source": [
    "def true0(a,b):\n",
    "    return 1/5*(b**5-a**5)-(b**2-a**2)+(b-a)"
   ]
  },
  {
   "cell_type": "code",
   "execution_count": 6,
   "id": "4749da2e",
   "metadata": {},
   "outputs": [
    {
     "name": "stdout",
     "output_type": "stream",
     "text": [
      "true value is 4.4\n"
     ]
    }
   ],
   "source": [
    "t = true0(0,2)\n",
    "print(f'true value is {t}')"
   ]
  },
  {
   "cell_type": "code",
   "execution_count": 7,
   "id": "c754863b",
   "metadata": {},
   "outputs": [
    {
     "name": "stdout",
     "output_type": "stream",
     "text": [
      "prediction of trapezoidal method is 4.50656\n",
      "error of trapezoidal method is 0.10655999999999999\n"
     ]
    }
   ],
   "source": [
    "I = trapezoidal(10,0,2)\n",
    "print(f'prediction of trapezoidal method is {I}')\n",
    "print(f'error of trapezoidal method is {I-t}')"
   ]
  },
  {
   "cell_type": "code",
   "execution_count": 8,
   "id": "980ee016",
   "metadata": {},
   "outputs": [
    {
     "name": "stdout",
     "output_type": "stream",
     "text": [
      "prediction of simpson method is 4.400426666666668\n",
      "error of simpson method is 0.0004266666666676855\n"
     ]
    }
   ],
   "source": [
    "I = simpson(10,0,2)\n",
    "print(f'prediction of simpson method is {I}')\n",
    "print(f'error of simpson method is {I-t}')"
   ]
  },
  {
   "cell_type": "markdown",
   "id": "60614396",
   "metadata": {},
   "source": [
    "### (c)"
   ]
  },
  {
   "cell_type": "code",
   "execution_count": 9,
   "id": "152f5652",
   "metadata": {},
   "outputs": [
    {
     "name": "stdout",
     "output_type": "stream",
     "text": [
      "true value is 4.4\n"
     ]
    }
   ],
   "source": [
    "t = true0(0,2)\n",
    "print(f'true value is {t}')"
   ]
  },
  {
   "cell_type": "code",
   "execution_count": 10,
   "id": "c938180d",
   "metadata": {},
   "outputs": [
    {
     "name": "stdout",
     "output_type": "stream",
     "text": [
      "prediction of trapezoidal method is 4.401066656\n",
      "error of trapezoidal method is 0.0010666559999998881\n"
     ]
    }
   ],
   "source": [
    "I = trapezoidal(100,0,2)\n",
    "print(f'prediction of trapezoidal method is {I}')\n",
    "print(f'error of trapezoidal method is {I-t}')"
   ]
  },
  {
   "cell_type": "code",
   "execution_count": 11,
   "id": "f6ca189d",
   "metadata": {},
   "outputs": [
    {
     "name": "stdout",
     "output_type": "stream",
     "text": [
      "prediction of simpson method is 4.400000042666666\n",
      "error of simpson method is 4.26666657560304e-08\n"
     ]
    }
   ],
   "source": [
    "I = simpson(100,0,2)\n",
    "print(f'prediction of simpson method is {I}')\n",
    "print(f'error of simpson method is {I-t}')"
   ]
  },
  {
   "cell_type": "markdown",
   "id": "493cb029",
   "metadata": {},
   "source": [
    "The comparison of result from two method is obvious that the simpson method is more accurate that the trapezoidal method."
   ]
  },
  {
   "cell_type": "markdown",
   "id": "04b529a8",
   "metadata": {},
   "source": [
    "## Problem 3"
   ]
  },
  {
   "cell_type": "markdown",
   "id": "0cc6dea0",
   "metadata": {},
   "source": [
    "### (c)"
   ]
  },
  {
   "cell_type": "code",
   "execution_count": 12,
   "id": "b3812983",
   "metadata": {},
   "outputs": [],
   "source": [
    "l = np.arange(0.01,1,0.01)"
   ]
  },
  {
   "cell_type": "code",
   "execution_count": 13,
   "id": "fb53df0e",
   "metadata": {},
   "outputs": [],
   "source": [
    "def f(x):\n",
    "    return x**3/((1-x)**5*(np.exp(x/(1-x))-1))"
   ]
  },
  {
   "cell_type": "code",
   "execution_count": 14,
   "id": "305f5cbf",
   "metadata": {},
   "outputs": [],
   "source": [
    "import matplotlib.pyplot as plt"
   ]
  },
  {
   "cell_type": "code",
   "execution_count": 15,
   "id": "8370da62",
   "metadata": {},
   "outputs": [
    {
     "data": {
      "text/plain": [
       "Text(0, 0.5, 'f(z)')"
      ]
     },
     "execution_count": 15,
     "metadata": {},
     "output_type": "execute_result"
    },
    {
     "data": {
      "image/png": "[encoded data removed]",
      "text/plain": [
       "<Figure size 640x480 with 1 Axes>"
      ]
     },
     "metadata": {},
     "output_type": "display_data"
    }
   ],
   "source": [
    "plt.grid(True)\n",
    "plt.plot(l,f(l))\n",
    "plt.xlabel('z')\n",
    "plt.ylabel('f(z)')"
   ]
  },
  {
   "cell_type": "markdown",
   "id": "a6984a25",
   "metadata": {},
   "source": [
    "### (d)"
   ]
  },
  {
   "cell_type": "code",
   "execution_count": 16,
   "id": "ce2973b0",
   "metadata": {},
   "outputs": [],
   "source": [
    "from sympy import *"
   ]
  },
  {
   "cell_type": "code",
   "execution_count": 17,
   "id": "8bd408d6",
   "metadata": {},
   "outputs": [],
   "source": [
    "x0 = Symbol('x0')"
   ]
  },
  {
   "cell_type": "code",
   "execution_count": 18,
   "id": "d1957e1c",
   "metadata": {},
   "outputs": [
    {
     "data": {
      "text/latex": [
       "$\\displaystyle 0$"
      ],
      "text/plain": [
       "0"
      ]
     },
     "execution_count": 18,
     "metadata": {},
     "output_type": "execute_result"
    }
   ],
   "source": [
    "limit(x0**3/(((1-x0)**5)*(exp(x0/(1-x0))-1)), x0, 0,'+')"
   ]
  },
  {
   "cell_type": "code",
   "execution_count": 19,
   "id": "7ae78f7e",
   "metadata": {},
   "outputs": [
    {
     "data": {
      "text/latex": [
       "$\\displaystyle 0$"
      ],
      "text/plain": [
       "0"
      ]
     },
     "execution_count": 19,
     "metadata": {},
     "output_type": "execute_result"
    }
   ],
   "source": [
    "limit(x0**3/((1-x0)**5*(exp(x0/(1-x0))-1)), x0, 1,'-')"
   ]
  },
  {
   "cell_type": "markdown",
   "id": "7cd9f7f3",
   "metadata": {},
   "source": [
    "They are all limited to 0."
   ]
  },
  {
   "cell_type": "markdown",
   "id": "016e0d3a",
   "metadata": {},
   "source": [
    "### (e)"
   ]
  },
  {
   "cell_type": "code",
   "execution_count": 20,
   "id": "1c537eb6",
   "metadata": {},
   "outputs": [],
   "source": [
    "from numpy import ones,copy,cos,tan,pi,linspace\n",
    "\n",
    "def gaussxw(N):\n",
    "\n",
    "    # Initial approximation to roots of the Legendre polynomial\n",
    "    a = linspace(3,4*N-1,N)/(4*N+2)\n",
    "    x = cos(pi*a+1/(8*N*N*tan(a)))\n",
    "\n",
    "    # Find roots using Newton's method\n",
    "    epsilon = 1e-15\n",
    "    delta = 1.0\n",
    "    while delta>epsilon:\n",
    "        p0 = ones(N,float)\n",
    "        p1 = copy(x)\n",
    "        for k in range(1,N):\n",
    "            p0,p1 = p1,((2*k+1)*x*p1-k*p0)/(k+1)\n",
    "        dp = (N+1)*(p0-x*p1)/(1-x*x)\n",
    "        dx = p1/dp\n",
    "        x -= dx\n",
    "        delta = max(abs(dx))\n",
    "\n",
    "    # Calculate the weights\n",
    "    w = 2*(N+1)*(N+1)/(N*N*(1-x*x)*dp*dp)\n",
    "\n",
    "    return x,w\n",
    "\n",
    "def gaussxwab(N,a,b):\n",
    "    x,w = gaussxw(N)\n",
    "    return 0.5*(b-a)*x+0.5*(b+a),0.5*(b-a)*w"
   ]
  },
  {
   "cell_type": "code",
   "execution_count": 21,
   "id": "4eada265",
   "metadata": {},
   "outputs": [],
   "source": [
    "def gaussian(a,b,N):\n",
    "    x,w = gaussxwab(100,a,b)\n",
    "    s = 0\n",
    "    for i in range(N):\n",
    "        s += w[i]*f(x[i])\n",
    "    return s"
   ]
  },
  {
   "cell_type": "code",
   "execution_count": 22,
   "id": "c05934d1",
   "metadata": {},
   "outputs": [],
   "source": [
    "import numpy as np\n",
    "import math # 绝对值函数\n",
    "from scipy import integrate # 求积分\n",
    "\n",
    "## 求梯形值(返回用k阶复化梯形公式估计的积分)\n",
    "def Trap(f,a,b,Iold,k):\n",
    "    if k == 1:\n",
    "        Inew = (f(a)+f(b))*(b-a)/2\n",
    "#         print ('二分'+str(k-1)+'次后的梯形值为'+'%.6f'%Inew)\n",
    "    else:\n",
    "        n = pow(2,k-2)\n",
    "        h = (b-a)/n # 步长\n",
    "        x = a+(h/2) #第一步的中心点\n",
    "        sum_k = 0\n",
    "        for i in range(n):\n",
    "            sum_k = sum_k + f(x) # 求和\n",
    "            x = x + h # 下一个点\n",
    "        Inew = (Iold+h*sum_k)/2 # 递推公式\n",
    "#         print ('二分'+str(k-1)+'次后的梯形值为'+'%.6f'%Inew)\n",
    "    return Inew\n",
    "\n",
    "## 求加速值(运用理查森外推加速算法)\n",
    "def Richardson(R,k):\n",
    "    for i in range(k-1,0,-1):\n",
    "        c = pow(2,2*(k-i))\n",
    "        R[i] = (c*R[i+1]-R [i])/(c-1) # 龙贝格求积算法\n",
    "#     for a in sorted(R.keys(),reverse=True)[1:]: # 逆序输出\n",
    "#         print ('第'+str(k-1)+'次二分的第'+str(k-a)+'次加速值为'+'%.6f'%R[a])\n",
    "    return R\n",
    "\n",
    "## 龙贝格求积分\n",
    "def romberg(f, a, b, eps):\n",
    "    T = {} # 定义空字典\n",
    "    k = 1\n",
    "#     print ('区间[a,b]的二分次数为：'+str(k-1))\n",
    "    T[1] = Trap(f,a,b,0.0,1)\n",
    "    former_R = T[1]\n",
    "    while True:\n",
    "        k += 1\n",
    "#         print ('\\n区间[a,b]的二分次数为：'+str(k-1))\n",
    "        # 求梯形值\n",
    "        T[k] = Trap(f,a,b,T[k-1],k)\n",
    "        # 求加速值\n",
    "        T = Richardson(T,k)\n",
    "        # 判断是否满足终止条件\n",
    "        if abs(T[1] - former_R) < eps:\n",
    "            return T[1]\n",
    "        former_R = T[1] #最后一个值置为初始值\n",
    "a = 10**-8 # 积分上限\n",
    "b = 1-10**-8 # 积分下限\n",
    "eps = 10**-13  # 给定精度"
   ]
  },
  {
   "cell_type": "code",
   "execution_count": 23,
   "id": "aa51900e",
   "metadata": {},
   "outputs": [
    {
     "name": "stderr",
     "output_type": "stream",
     "text": [
      "/var/folders/f_/8nk__yx15y1901fs7rvmc2f40000gn/T/ipykernel_17188/176436669.py:2: RuntimeWarning: overflow encountered in exp\n",
      "  return x**3/((1-x)**5*(np.exp(x/(1-x))-1))\n"
     ]
    },
    {
     "data": {
      "text/plain": [
       "6.493939402637867"
      ]
     },
     "execution_count": 23,
     "metadata": {},
     "output_type": "execute_result"
    }
   ],
   "source": [
    "trapezoidal(100,10**-8,1-10**-8)"
   ]
  },
  {
   "cell_type": "code",
   "execution_count": 24,
   "id": "519e6a96",
   "metadata": {},
   "outputs": [
    {
     "name": "stderr",
     "output_type": "stream",
     "text": [
      "/var/folders/f_/8nk__yx15y1901fs7rvmc2f40000gn/T/ipykernel_17188/176436669.py:2: RuntimeWarning: overflow encountered in exp\n",
      "  return x**3/((1-x)**5*(np.exp(x/(1-x))-1))\n"
     ]
    },
    {
     "data": {
      "text/plain": [
       "6.4939403476972"
      ]
     },
     "execution_count": 24,
     "metadata": {},
     "output_type": "execute_result"
    }
   ],
   "source": [
    "simpson(100,10**-8,1-10**-8)#because we can not "
   ]
  },
  {
   "cell_type": "code",
   "execution_count": 25,
   "id": "3ff20248",
   "metadata": {},
   "outputs": [
    {
     "name": "stderr",
     "output_type": "stream",
     "text": [
      "/var/folders/f_/8nk__yx15y1901fs7rvmc2f40000gn/T/ipykernel_17188/176436669.py:2: RuntimeWarning: overflow encountered in exp\n",
      "  return x**3/((1-x)**5*(np.exp(x/(1-x))-1))\n"
     ]
    },
    {
     "data": {
      "text/plain": [
       "6.493939402266831"
      ]
     },
     "execution_count": 25,
     "metadata": {},
     "output_type": "execute_result"
    }
   ],
   "source": [
    "gaussian(0,1,100)"
   ]
  },
  {
   "cell_type": "code",
   "execution_count": 26,
   "id": "bfff5ba7",
   "metadata": {},
   "outputs": [
    {
     "name": "stderr",
     "output_type": "stream",
     "text": [
      "/var/folders/f_/8nk__yx15y1901fs7rvmc2f40000gn/T/ipykernel_17188/176436669.py:2: RuntimeWarning: overflow encountered in exp\n",
      "  return x**3/((1-x)**5*(np.exp(x/(1-x))-1))\n"
     ]
    },
    {
     "data": {
      "text/plain": [
       "6.493939402266917"
      ]
     },
     "execution_count": 26,
     "metadata": {},
     "output_type": "execute_result"
    }
   ],
   "source": [
    "romberg(f,a,b,eps) "
   ]
  },
  {
   "cell_type": "markdown",
   "id": "1bd32770",
   "metadata": {},
   "source": [
    "### (f)"
   ]
  },
  {
   "cell_type": "code",
   "execution_count": 27,
   "id": "9952cd74",
   "metadata": {},
   "outputs": [],
   "source": [
    "def delta(I,c=299792458,h=6.62607015e-34,k_B=1.380649e-23):\n",
    "    return (2*np.pi*k_B**4)/(c**2*h**3)*I"
   ]
  },
  {
   "cell_type": "code",
   "execution_count": 28,
   "id": "a3057d98",
   "metadata": {},
   "outputs": [
    {
     "name": "stderr",
     "output_type": "stream",
     "text": [
      "/var/folders/f_/8nk__yx15y1901fs7rvmc2f40000gn/T/ipykernel_17188/176436669.py:2: RuntimeWarning: overflow encountered in exp\n",
      "  return x**3/((1-x)**5*(np.exp(x/(1-x))-1))\n"
     ]
    },
    {
     "data": {
      "text/plain": [
       "5.670374419184433e-08"
      ]
     },
     "execution_count": 28,
     "metadata": {},
     "output_type": "execute_result"
    }
   ],
   "source": [
    "delta(gaussian(0,1,100))"
   ]
  },
  {
   "cell_type": "markdown",
   "id": "0f1e7d15",
   "metadata": {},
   "source": [
    "## Problem 4"
   ]
  },
  {
   "cell_type": "markdown",
   "id": "6100a266",
   "metadata": {},
   "source": [
    "### (a)"
   ]
  },
  {
   "cell_type": "code",
   "execution_count": 29,
   "id": "9b601e22",
   "metadata": {},
   "outputs": [],
   "source": [
    "def s(x,y):\n",
    "    if x**2+y**2<=1:\n",
    "        return 1\n",
    "    else:\n",
    "        return 0"
   ]
  },
  {
   "cell_type": "code",
   "execution_count": 30,
   "id": "d077f9e5",
   "metadata": {},
   "outputs": [],
   "source": [
    "def f(y,a,b,n):\n",
    "    h = (b-a)/n\n",
    "    sum0 = 1/2*s(a,y)+1/2*s(b,y)\n",
    "    for i in np.arange(a+h,b,h):\n",
    "        sum0+=s(i,y)\n",
    "    return h*sum0"
   ]
  },
  {
   "cell_type": "code",
   "execution_count": 31,
   "id": "697b4fa7",
   "metadata": {},
   "outputs": [],
   "source": [
    "def trapezoidal(N,a,b):\n",
    "    h = (b-a)/N\n",
    "    l = np.arange(h+a,b,h)\n",
    "    I = f(a,-1,1,N)/2+f(b,-1,1,N)/2\n",
    "    for i in l:\n",
    "        I += f(i,a,b,N)\n",
    "    return I*h"
   ]
  },
  {
   "cell_type": "code",
   "execution_count": 32,
   "id": "8a9dbed2",
   "metadata": {},
   "outputs": [
    {
     "data": {
      "text/plain": [
       "3.1415904300000355"
      ]
     },
     "execution_count": 32,
     "metadata": {},
     "output_type": "execute_result"
    }
   ],
   "source": [
    "trapezoidal(20000,-1,1)"
   ]
  },
  {
   "cell_type": "markdown",
   "id": "bb460113",
   "metadata": {},
   "source": [
    "### (b)"
   ]
  },
  {
   "cell_type": "code",
   "execution_count": 33,
   "id": "040765a0",
   "metadata": {},
   "outputs": [
    {
     "name": "stdout",
     "output_type": "stream",
     "text": [
      "所得圆周率为：3.141656\n"
     ]
    }
   ],
   "source": [
    "from random import *\n",
    "seed(10)     #设定种子以固定随机数\n",
    " \n",
    "dot=0\n",
    "dots=1000000\n",
    " \n",
    "for i in range(1,dots+1):\n",
    "    x,y=np.random.uniform(-1,1),np.random.uniform(-1,1)\n",
    "    r=pow(x**2+y**2,0.5)\n",
    "    if r<=1:\n",
    "        dot+=1\n",
    "pi=4*(dot/dots)\n",
    "print('所得圆周率为：{}'.format(pi))\n"
   ]
  },
  {
   "cell_type": "markdown",
   "id": "3982f471",
   "metadata": {},
   "source": [
    "### (c)"
   ]
  },
  {
   "cell_type": "code",
   "execution_count": null,
   "id": "2194b129",
   "metadata": {},
   "outputs": [],
   "source": [
    "def f(x_1,x_2,x_3,x_4,x_5,x_6):\n",
    "    if x_1**2+x_2**2+x_3**2+x_4**2+x_5**2+x_6**2<=1:\n",
    "        return 1\n",
    "    else:\n",
    "        return 0"
   ]
  },
  {
   "cell_type": "code",
   "execution_count": null,
   "id": "81b2242c",
   "metadata": {},
   "outputs": [],
   "source": [
    "def trapezoidal(f,a,b,N):\n",
    "    h = (b-a)/N\n",
    "    l = np.arange(h+a,b,h)\n",
    "    I = h*(f(a)/2+f(b)/2+np.sum(f(l)))\n",
    "    return I"
   ]
  },
  {
   "cell_type": "code",
   "execution_count": null,
   "id": "8005f601",
   "metadata": {},
   "outputs": [],
   "source": [
    "def g(li):\n",
    "    sum_0 = 0\n",
    "    h = 2/10\n",
    "    for i in range(11**6):\n",
    "        n = li[i,:]\n",
    "        n = list(n)\n",
    "        c = Counter(n)[1]+Counter(n)[-1]\n",
    "        sum_0 += (1/2)**c*f(*n)\n",
    "    return sum_0*h**6\n",
    "    "
   ]
  },
  {
   "cell_type": "code",
   "execution_count": null,
   "id": "ef52c08f",
   "metadata": {},
   "outputs": [],
   "source": [
    "l = np.arange(-10,11,2)/10\n",
    "li = np.zeros((11**6,6))\n",
    "from collections import Counter\n",
    "k = 0\n",
    "for i0 in l:\n",
    "    for i1 in l:\n",
    "        for i2 in l:\n",
    "            for i3 in l:\n",
    "                for i4 in l:\n",
    "                    for i5 in l:\n",
    "                        li[k,:]=[i0,i1,i2,i3,i4,i5]\n",
    "                        k+=1"
   ]
  },
  {
   "cell_type": "code",
   "execution_count": null,
   "id": "1576ca45",
   "metadata": {},
   "outputs": [],
   "source": [
    "g(li)"
   ]
  },
  {
   "cell_type": "markdown",
   "id": "cad3fd99",
   "metadata": {},
   "source": [
    "### (d)"
   ]
  },
  {
   "cell_type": "code",
   "execution_count": null,
   "id": "756ed5fe",
   "metadata": {},
   "outputs": [],
   "source": [
    "from random import *\n",
    "seed(10)     #设定种子以固定随机数\n",
    " \n",
    "dot=0\n",
    "dots=1000000\n",
    " \n",
    "for i in range(1,dots+1):\n",
    "    x_1,x_2,x_3,x_4,x_5,x_6=np.random.uniform(-1,1),np.random.uniform(-1,1),np.random.uniform(-1,1),np.random.uniform(-1,1),np.random.uniform(-1,1),np.random.uniform(-1,1)\n",
    "    r=x_1**2+x_2**2+x_3**2+x_4**2+x_5**2+x_6**2\n",
    "    if r<=1:\n",
    "        dot+=1\n",
    "pi=2**6*(dot/dots)\n",
    "print(pi)"
   ]
  },
  {
   "cell_type": "code",
   "execution_count": null,
   "id": "0e306461",
   "metadata": {},
   "outputs": [],
   "source": [
    "1/6*np.pi**3"
   ]
  },
  {
   "cell_type": "markdown",
   "id": "fb244054",
   "metadata": {},
   "source": [
    "## Problem 5"
   ]
  },
  {
   "cell_type": "code",
   "execution_count": 100,
   "id": "8009fd4c",
   "metadata": {},
   "outputs": [],
   "source": [
    "import random"
   ]
  },
  {
   "cell_type": "markdown",
   "id": "bfd71e6f",
   "metadata": {},
   "source": [
    "### (b)"
   ]
  },
  {
   "cell_type": "code",
   "execution_count": 265,
   "id": "e1120df6",
   "metadata": {},
   "outputs": [],
   "source": [
    "def randomwalk():\n",
    "    l = []\n",
    "    a = [-1,1]\n",
    "    for i in range(10000):\n",
    "        l.append(random.choices(a,k=1000))\n",
    "    return l"
   ]
  },
  {
   "cell_type": "code",
   "execution_count": 266,
   "id": "4b133157",
   "metadata": {},
   "outputs": [],
   "source": [
    "randomwalk0 = randomwalk()"
   ]
  },
  {
   "cell_type": "code",
   "execution_count": 267,
   "id": "53170132",
   "metadata": {},
   "outputs": [],
   "source": [
    "randomwalk0 = np.array(randomwalk0)"
   ]
  },
  {
   "cell_type": "code",
   "execution_count": 268,
   "id": "2364061a",
   "metadata": {},
   "outputs": [
    {
     "data": {
      "text/plain": [
       "array([-0.012, -0.012,  0.002, ..., -0.028, -0.022, -0.006])"
      ]
     },
     "execution_count": 268,
     "metadata": {},
     "output_type": "execute_result"
    }
   ],
   "source": [
    "np.sum(randomwalk0,1)/1000"
   ]
  },
  {
   "cell_type": "code",
   "execution_count": 269,
   "id": "728aa20a",
   "metadata": {},
   "outputs": [],
   "source": [
    "import seaborn as sns\n",
    "import matplotlib.pyplot as plt"
   ]
  },
  {
   "cell_type": "code",
   "execution_count": 274,
   "id": "dfe95a66",
   "metadata": {},
   "outputs": [],
   "source": [
    "def p(N):\n",
    "    l = np.sum(randomwalk0[:,:N],1)\n",
    "    plt.hist(l,color='red',bins=50,density=1)"
   ]
  },
  {
   "cell_type": "code",
   "execution_count": 275,
   "id": "1cc68eb3",
   "metadata": {},
   "outputs": [
    {
     "data": {
      "text/plain": [
       "array([ 0.0008,  0.0014, -0.0002, ..., -0.0012, -0.002 ,  0.0008])"
      ]
     },
     "execution_count": 275,
     "metadata": {},
     "output_type": "execute_result"
    }
   ],
   "source": [
    "l = np.sum(randomwalk0[:,:50],1)/10000\n",
    "l"
   ]
  },
  {
   "cell_type": "code",
   "execution_count": 276,
   "id": "c5848aa7",
   "metadata": {},
   "outputs": [
    {
     "data": {
      "image/png": "[encoded data removed]",
      "text/plain": [
       "<Figure size 640x480 with 1 Axes>"
      ]
     },
     "metadata": {},
     "output_type": "display_data"
    }
   ],
   "source": [
    "p(10)"
   ]
  },
  {
   "cell_type": "code",
   "execution_count": 277,
   "id": "c90f347d",
   "metadata": {},
   "outputs": [
    {
     "data": {
      "image/png": "[encoded data removed]",
      "text/plain": [
       "<Figure size 640x480 with 1 Axes>"
      ]
     },
     "metadata": {},
     "output_type": "display_data"
    }
   ],
   "source": [
    "p(100)"
   ]
  },
  {
   "cell_type": "code",
   "execution_count": 278,
   "id": "c001d496",
   "metadata": {},
   "outputs": [
    {
     "data": {
      "image/png": "[encoded data removed]",
      "text/plain": [
       "<Figure size 640x480 with 1 Axes>"
      ]
     },
     "metadata": {},
     "output_type": "display_data"
    }
   ],
   "source": [
    "p(500)"
   ]
  },
  {
   "cell_type": "code",
   "execution_count": 279,
   "id": "b1900dce",
   "metadata": {},
   "outputs": [
    {
     "data": {
      "image/png": "[encoded data removed]",
      "text/plain": [
       "<Figure size 640x480 with 1 Axes>"
      ]
     },
     "metadata": {},
     "output_type": "display_data"
    }
   ],
   "source": [
    "p(1000)"
   ]
  },
  {
   "cell_type": "markdown",
   "id": "1f84c260",
   "metadata": {},
   "source": [
    "### (c)"
   ]
  },
  {
   "cell_type": "code",
   "execution_count": 280,
   "id": "5c640b81",
   "metadata": {},
   "outputs": [],
   "source": [
    "l = np.sqrt(np.mean(np.sum(randomwalk0[:,:50],1)**2))"
   ]
  },
  {
   "cell_type": "code",
   "execution_count": 281,
   "id": "2b836bb9",
   "metadata": {},
   "outputs": [
    {
     "data": {
      "text/plain": [
       "[<matplotlib.lines.Line2D at 0x3d11ca140>]"
      ]
     },
     "execution_count": 281,
     "metadata": {},
     "output_type": "execute_result"
    },
    {
     "data": {
      "image/png": "[encoded data removed]",
      "text/plain": [
       "<Figure size 640x480 with 1 Axes>"
      ]
     },
     "metadata": {},
     "output_type": "display_data"
    }
   ],
   "source": [
    "l = []\n",
    "s = [5,10,100,500,1000]\n",
    "for i in [5,10,100,500,1000]:\n",
    "    l.append(np.sqrt(np.mean(np.sum(randomwalk0[:,:i],1)**2)))\n",
    "plt.plot(np.sqrt(s),l,'-o')\n",
    "plt.plot(np.sqrt(s),np.sqrt(s),'-o')"
   ]
  },
  {
   "cell_type": "markdown",
   "id": "6adae202",
   "metadata": {},
   "source": [
    "### (d)"
   ]
  },
  {
   "cell_type": "code",
   "execution_count": 282,
   "id": "c110a661",
   "metadata": {},
   "outputs": [],
   "source": [
    "def randomwalk():\n",
    "    l = []\n",
    "    a = [[0,1],[0,-1],[1,0],[-1,0]]\n",
    "    for i in range(10000):\n",
    "        l.append(random.choices(a,k=1000))\n",
    "    return l"
   ]
  },
  {
   "cell_type": "code",
   "execution_count": 283,
   "id": "14a5447e",
   "metadata": {},
   "outputs": [],
   "source": [
    "randomwalk2 = randomwalk()"
   ]
  },
  {
   "cell_type": "markdown",
   "id": "f7e8f78b",
   "metadata": {},
   "source": [
    "### (e)"
   ]
  },
  {
   "cell_type": "code",
   "execution_count": 284,
   "id": "7b21a565",
   "metadata": {},
   "outputs": [],
   "source": [
    "randomwalk2 = np.array(randomwalk2)"
   ]
  },
  {
   "cell_type": "code",
   "execution_count": 285,
   "id": "f333e3e9",
   "metadata": {},
   "outputs": [
    {
     "data": {
      "text/plain": [
       "[<matplotlib.lines.Line2D at 0x3d1239360>]"
      ]
     },
     "execution_count": 285,
     "metadata": {},
     "output_type": "execute_result"
    },
    {
     "data": {
      "image/png": "[encoded data removed]",
      "text/plain": [
       "<Figure size 640x480 with 1 Axes>"
      ]
     },
     "metadata": {},
     "output_type": "display_data"
    }
   ],
   "source": [
    "l = []\n",
    "s = [5,10,100,500,1000]\n",
    "for i in [5,10,100,500,1000]:\n",
    "    l.append(np.sqrt(np.mean(np.sum(np.sum(randomwalk2[:,:i,:],1)**2,1))))\n",
    "plt.plot(np.sqrt(s),l,'-o')\n",
    "plt.plot(np.sqrt(s),np.sqrt(s),'-o')"
   ]
  },
  {
   "cell_type": "markdown",
   "id": "b50d5df2",
   "metadata": {},
   "source": [
    "### (f)"
   ]
  },
  {
   "cell_type": "code",
   "execution_count": 286,
   "id": "fe5455a8",
   "metadata": {},
   "outputs": [],
   "source": [
    "def randomwalk():\n",
    "    l = []\n",
    "    a = [[0,1],[0,-1],[1,0],[-1,0]]\n",
    "    for i in range(10000):\n",
    "        l.append(random.choices(a,k=10000))\n",
    "    return l\n",
    "randomwalk2 = randomwalk()"
   ]
  },
  {
   "cell_type": "code",
   "execution_count": 287,
   "id": "f32eb09f",
   "metadata": {},
   "outputs": [],
   "source": [
    "randomwalk2 = np.array(randomwalk2)"
   ]
  },
  {
   "cell_type": "code",
   "execution_count": 288,
   "id": "40c92add",
   "metadata": {},
   "outputs": [],
   "source": [
    "r = np.sqrt(np.sum(np.sum(randomwalk2,1)**2,1))"
   ]
  },
  {
   "cell_type": "code",
   "execution_count": 289,
   "id": "027238f3",
   "metadata": {},
   "outputs": [
    {
     "data": {
      "text/plain": [
       "(array([5.84522505e-04, 9.62742950e-04, 1.40973075e-03, 2.51000840e-03,\n",
       "        2.33809002e-03, 3.30083297e-03, 3.81658812e-03, 4.02289018e-03,\n",
       "        4.43549430e-03, 4.71056372e-03, 5.36385358e-03, 5.84522505e-03,\n",
       "        7.04865374e-03, 7.39249051e-03, 7.28933948e-03, 7.73632728e-03,\n",
       "        7.77071095e-03, 8.25208243e-03, 8.49276816e-03, 8.52715184e-03,\n",
       "        9.14605802e-03, 8.93975596e-03, 7.77071095e-03, 8.45838449e-03,\n",
       "        9.14605802e-03, 9.35236008e-03, 7.56440889e-03, 8.59591919e-03,\n",
       "        7.22057212e-03, 8.04578037e-03, 7.80509463e-03, 8.35523346e-03,\n",
       "        7.22057212e-03, 7.22057212e-03, 6.80796800e-03, 7.94262934e-03,\n",
       "        7.25495580e-03, 5.50138828e-03, 6.73920065e-03, 6.05152711e-03,\n",
       "        5.26070255e-03, 5.98275976e-03, 4.77933107e-03, 4.91686578e-03,\n",
       "        4.95124946e-03, 4.46987798e-03, 4.77933107e-03, 3.67905342e-03,\n",
       "        3.71343709e-03, 4.02289018e-03, 3.30083297e-03, 2.92261253e-03,\n",
       "        2.57877576e-03, 2.54439208e-03, 3.02576356e-03, 2.26932267e-03,\n",
       "        2.33809002e-03, 2.06302061e-03, 1.65041649e-03, 1.54726546e-03,\n",
       "        1.82233487e-03, 1.23781236e-03, 1.27219604e-03, 1.27219604e-03,\n",
       "        8.93975596e-04, 1.10027766e-03, 7.56440889e-04, 8.93975596e-04,\n",
       "        9.28359273e-04, 5.84522505e-04, 6.53289859e-04, 5.50138828e-04,\n",
       "        5.84522505e-04, 4.46987798e-04, 3.78220445e-04, 3.09453091e-04,\n",
       "        6.87673536e-05, 4.12604121e-04, 2.75069414e-04, 2.75069414e-04,\n",
       "        1.37534707e-04, 1.37534707e-04, 1.03151030e-04, 1.71918384e-04,\n",
       "        1.37534707e-04, 6.87673536e-05, 1.03151030e-04, 3.43836768e-05,\n",
       "        3.43836768e-05, 6.87673536e-05, 6.87673536e-05, 6.87673536e-05,\n",
       "        6.87673536e-05, 3.43836768e-05, 3.43836768e-05, 0.00000000e+00,\n",
       "        0.00000000e+00, 0.00000000e+00, 3.43836768e-05, 6.87673536e-05]),\n",
       " array([  1.41421356,   4.32257036,   7.23092715,  10.13928395,\n",
       "         13.04764074,  15.95599754,  18.86435433,  21.77271113,\n",
       "         24.68106792,  27.58942472,  30.49778151,  33.40613831,\n",
       "         36.3144951 ,  39.2228519 ,  42.13120869,  45.03956549,\n",
       "         47.94792228,  50.85627908,  53.76463587,  56.67299267,\n",
       "         59.58134946,  62.48970626,  65.39806305,  68.30641985,\n",
       "         71.21477664,  74.12313344,  77.03149023,  79.93984703,\n",
       "         82.84820382,  85.75656062,  88.66491741,  91.57327421,\n",
       "         94.48163101,  97.3899878 , 100.2983446 , 103.20670139,\n",
       "        106.11505819, 109.02341498, 111.93177178, 114.84012857,\n",
       "        117.74848537, 120.65684216, 123.56519896, 126.47355575,\n",
       "        129.38191255, 132.29026934, 135.19862614, 138.10698293,\n",
       "        141.01533973, 143.92369652, 146.83205332, 149.74041011,\n",
       "        152.64876691, 155.5571237 , 158.4654805 , 161.37383729,\n",
       "        164.28219409, 167.19055088, 170.09890768, 173.00726447,\n",
       "        175.91562127, 178.82397806, 181.73233486, 184.64069165,\n",
       "        187.54904845, 190.45740524, 193.36576204, 196.27411883,\n",
       "        199.18247563, 202.09083242, 204.99918922, 207.90754601,\n",
       "        210.81590281, 213.7242596 , 216.6326164 , 219.54097319,\n",
       "        222.44932999, 225.35768678, 228.26604358, 231.17440037,\n",
       "        234.08275717, 236.99111396, 239.89947076, 242.80782755,\n",
       "        245.71618435, 248.62454114, 251.53289794, 254.44125473,\n",
       "        257.34961153, 260.25796833, 263.16632512, 266.07468192,\n",
       "        268.98303871, 271.89139551, 274.7997523 , 277.7081091 ,\n",
       "        280.61646589, 283.52482269, 286.43317948, 289.34153628,\n",
       "        292.24989307]),\n",
       " <BarContainer object of 100 artists>)"
      ]
     },
     "execution_count": 289,
     "metadata": {},
     "output_type": "execute_result"
    },
    {
     "data": {
      "image/png": "[encoded data removed]",
      "text/plain": [
       "<Figure size 640x480 with 1 Axes>"
      ]
     },
     "metadata": {},
     "output_type": "display_data"
    }
   ],
   "source": [
    "plt.hist(r,color='red',bins=100,density=1)"
   ]
  },
  {
   "cell_type": "markdown",
   "id": "9a1caa2b",
   "metadata": {},
   "source": [
    "## Problem 6"
   ]
  },
  {
   "cell_type": "markdown",
   "id": "606cb041",
   "metadata": {},
   "source": [
    "### (b)"
   ]
  },
  {
   "cell_type": "code",
   "execution_count": 34,
   "id": "84b71f58",
   "metadata": {},
   "outputs": [],
   "source": [
    "num = np.random.uniform(0,1,10000)\n",
    "x = np.arcsin(2*num-1)"
   ]
  },
  {
   "cell_type": "code",
   "execution_count": 35,
   "id": "48f3d274",
   "metadata": {},
   "outputs": [
    {
     "data": {
      "text/plain": [
       "[<matplotlib.lines.Line2D at 0x1552b2b30>]"
      ]
     },
     "execution_count": 35,
     "metadata": {},
     "output_type": "execute_result"
    },
    {
     "data": {
      "image/png": "[encoded data removed]",
      "text/plain": [
       "<Figure size 640x480 with 1 Axes>"
      ]
     },
     "metadata": {},
     "output_type": "display_data"
    }
   ],
   "source": [
    "plt.figure()\n",
    "plt.grid(True)\n",
    "plt.hist(x,density=1,color='black',bins=50)\n",
    "plt.plot(np.arange(-1.5,1.5,0.1),0.5*np.cos(np.arange(-1.5,1.5,0.1)),c='red')"
   ]
  },
  {
   "cell_type": "markdown",
   "id": "5eaca37b",
   "metadata": {},
   "source": [
    "### (d)"
   ]
  },
  {
   "cell_type": "markdown",
   "id": "9a3b83ee",
   "metadata": {},
   "source": [
    "I use $\\frac{3}{5}cosx$ to use the rejection method."
   ]
  },
  {
   "cell_type": "code",
   "execution_count": 89,
   "id": "93ad7fc2",
   "metadata": {},
   "outputs": [],
   "source": [
    "def f(x):\n",
    "    if -1<=x<=1:\n",
    "        return 3/5*(1-(x**2)/2)\n",
    "    else:\n",
    "        return 0"
   ]
  },
  {
   "cell_type": "code",
   "execution_count": 90,
   "id": "e1549e5b",
   "metadata": {},
   "outputs": [],
   "source": [
    "def reject(N,M=0.6):\n",
    "    ys = np.zeros(N)\n",
    "    n = 1\n",
    "    k = 0\n",
    "    while n<N:\n",
    "        y = np.arcsin(5/3*np.random.uniform(0,6/5*np.sin(1),1)+np.sin(-1))\n",
    "#         y = np.random.uniform(0,1,1)\n",
    "        u = np.random.uniform(0,1,1)\n",
    "        k += 1\n",
    "        if u<f(y)/np.cos(y)/M:\n",
    "            ys[n] = y\n",
    "            n+=1\n",
    "    return ys,k"
   ]
  },
  {
   "cell_type": "code",
   "execution_count": 91,
   "id": "b211d84d",
   "metadata": {},
   "outputs": [],
   "source": [
    "l,k = reject(100000,M=0.6)"
   ]
  },
  {
   "cell_type": "code",
   "execution_count": 92,
   "id": "7b76d36c",
   "metadata": {},
   "outputs": [],
   "source": [
    "l0 = []\n",
    "for i in np.arange(-1,1.1,0.1):\n",
    "    l0.append(f(i))"
   ]
  },
  {
   "cell_type": "code",
   "execution_count": 93,
   "id": "b7864b42",
   "metadata": {},
   "outputs": [
    {
     "data": {
      "text/plain": [
       "[<matplotlib.lines.Line2D at 0x1573a47c0>]"
      ]
     },
     "execution_count": 93,
     "metadata": {},
     "output_type": "execute_result"
    },
    {
     "data": {
      "image/png": "[encoded data removed]",
      "text/plain": [
       "<Figure size 640x480 with 1 Axes>"
      ]
     },
     "metadata": {},
     "output_type": "display_data"
    }
   ],
   "source": [
    "plt.figure()\n",
    "plt.grid(True)\n",
    "plt.hist(l,density=1,color='black',bins=100)\n",
    "plt.plot(np.arange(-1,1.1,0.1),l0,c='red')"
   ]
  },
  {
   "cell_type": "code",
   "execution_count": 94,
   "id": "aedb5951",
   "metadata": {},
   "outputs": [
    {
     "name": "stdout",
     "output_type": "stream",
     "text": [
      "Fraction of accepted deviates: 0.9909035058166036\n"
     ]
    }
   ],
   "source": [
    "print(\"Fraction of accepted deviates:\", 100000/k)"
   ]
  },
  {
   "cell_type": "code",
   "execution_count": 95,
   "id": "9be41393",
   "metadata": {},
   "outputs": [],
   "source": [
    "real = 3/5*(np.sin(1)-np.sin(-1))\n",
    "f_0 = 1"
   ]
  },
  {
   "cell_type": "code",
   "execution_count": 96,
   "id": "132611cc",
   "metadata": {},
   "outputs": [
    {
     "name": "stdout",
     "output_type": "stream",
     "text": [
      "Ratio of area under P(x) to f(x): 0.9903292548151011\n"
     ]
    }
   ],
   "source": [
    "print(\"Ratio of area under P(x) to f(x):\", f_0/real)"
   ]
  },
  {
   "cell_type": "markdown",
   "id": "76d8a7a2",
   "metadata": {},
   "source": [
    "It is really close to the fraction of deviates accepted"
   ]
  }
 ],
 "metadata": {
  "kernelspec": {
   "display_name": "Python 3 (ipykernel)",
   "language": "python",
   "name": "python3"
  },
  "language_info": {
   "codemirror_mode": {
    "name": "ipython",
    "version": 3
   },
   "file_extension": ".py",
   "mimetype": "text/x-python",
   "name": "python",
   "nbconvert_exporter": "python",
   "pygments_lexer": "ipython3",
   "version": "3.10.6"
  }
 },
 "nbformat": 4,
 "nbformat_minor": 5
}
